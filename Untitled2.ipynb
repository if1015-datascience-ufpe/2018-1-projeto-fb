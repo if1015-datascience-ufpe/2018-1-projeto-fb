{
 "cells": [
  {
   "cell_type": "code",
   "execution_count": 11,
   "metadata": {},
   "outputs": [
    {
     "name": "stdout",
     "output_type": "stream",
     "text": [
      "0 0.1844309172900698 0.2115996681499359\n",
      "1 0.3070522150555476 0.314761650420092\n",
      "2 1.0 1.0\n",
      "3 0.5181635910650663 0.5409404253714458\n",
      "4 0.6183142958835671 0.6010829950991778\n",
      "5 0.1632221673711889 0.20346305205068257\n",
      "6 0.20991806655184653 0.1985800980466098\n",
      "7 -9.042842889259939 -9.250683792141187\n",
      "8 0.07570553108689079 0.08827292254317823\n",
      "9 120.14557384204781 118.99128139377027\n",
      "10 0.4547096533045844 0.4479696824798251\n"
     ]
    }
   ],
   "source": [
    "import pandas as pd\n",
    "br = pd.read_csv('BR.csv',header=None)\n",
    "uk = pd.read_csv('UK.csv',header=None)\n",
    "for ind in range(0,11):\n",
    "    print(ind, br[ind].sum() / br[2].sum(), uk[ind].sum() / uk[2].sum())"
   ]
  },
  {
   "cell_type": "code",
   "execution_count": null,
   "metadata": {},
   "outputs": [],
   "source": []
  }
 ],
 "metadata": {
  "kernelspec": {
   "display_name": "Python 3",
   "language": "python",
   "name": "python3"
  },
  "language_info": {
   "codemirror_mode": {
    "name": "ipython",
    "version": 3
   },
   "file_extension": ".py",
   "mimetype": "text/x-python",
   "name": "python",
   "nbconvert_exporter": "python",
   "pygments_lexer": "ipython3",
   "version": "3.6.4"
  }
 },
 "nbformat": 4,
 "nbformat_minor": 2
}
